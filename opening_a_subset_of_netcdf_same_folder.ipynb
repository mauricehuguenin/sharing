{
 "cells": [
  {
   "cell_type": "markdown",
   "metadata": {},
   "source": [
    "### Opening a subset of netcdf data"
   ]
  },
  {
   "cell_type": "code",
   "execution_count": null,
   "metadata": {},
   "outputs": [],
   "source": [
    "# Purpose: Importing only a subset of data in a specific folder with xarray\n",
    "\n",
    "# ~~~~~~~~~~~~~~~~~~~~~~~~~~~~~~~~~~~~~~~~~~~~~~~~~~~~~~~~~~~~~~~~~~~~~~~~~~~ #\n",
    "#                          Maurice Huguenin-Virchaux                          #\n",
    "#                       m.huguenin-virchaux@unsw.edu.au                       #\n",
    "#                            28.08.2019, 11:55 AEST                           #\n",
    "# ~~~~~~~~~~~~~~~~~~~~~~~~~~~~~~~~~~~~~~~~~~~~~~~~~~~~~~~~~~~~~~~~~~~~~~~~~~~ #\n",
    "\n",
    "# % preamble ~~~~~~~~~~~~~~~~~~~~~~~~~~~~~~~~~~~~~~~~~~~~~~~~~~~~~~~~~~~~~~~~ #\n",
    "\n",
    "\n",
    "# data from 1981--2019\n",
    "base = '/srv/ccrc/data15/z5180028/noaa_esrl_sst.day.anom/'\n",
    "f1 = 'sst.day.anom.'\n",
    "\n",
    "import xarray as xr # for working with labelled multi-dimensional arrays\n",
    "import numpy as np\n",
    "\n",
    "#sst.day.anom.2015.nc\n",
    "#sst.day.anom.2016.nc\n",
    "#sst.day.anom.2017.nc\n",
    "#sst.day.anom.2018.nc\n",
    "\n",
    "a = ['2015', '2016', '2017', '2018']\n",
    "\n",
    "s = list(range(0,4))\n",
    "c = [] # empty list which I fill up\n",
    "for i in s: # loop through the number of files I would like\n",
    "    c.append(i)\n",
    "    c[i] = base + f1 + a[i] + '.nc' # fill in empty list\n",
    "    \n",
    "    \n",
    "# % load in data set ~~~~~~~~~~~~~~~~~~~~~~~~~~~~~~~~~~~~~~~~~~~~~~~~~~~~~~~~ #\n",
    "ssta = xr.open_mfdataset(c,combine='by_coords',\n",
    "                       chunks={'time': 1},decode_times = True)\n",
    "ssta\n",
    "\n",
    "# %% end of script     "
   ]
  }
 ],
 "metadata": {
  "kernelspec": {
   "display_name": "Python [conda env:analysis3-21.01] *",
   "language": "python",
   "name": "conda-env-analysis3-21.01-py"
  },
  "language_info": {
   "codemirror_mode": {
    "name": "ipython",
    "version": 3
   },
   "file_extension": ".py",
   "mimetype": "text/x-python",
   "name": "python",
   "nbconvert_exporter": "python",
   "pygments_lexer": "ipython3",
   "version": "3.8.6"
  }
 },
 "nbformat": 4,
 "nbformat_minor": 4
}
