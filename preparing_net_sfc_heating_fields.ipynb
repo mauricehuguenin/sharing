{
 "cells": [
  {
   "cell_type": "code",
   "execution_count": 1,
   "id": "f4cd32b8-9620-4613-b049-7ce1dab8149c",
   "metadata": {},
   "outputs": [],
   "source": [
    "# Purpose: Quickly analysing ENSOWind EXP to see if all okay\n",
    "# ~~~~~~~~~~~~~~~~~~~~~~~~~~~~~~~~~~~~~~~~~~~~~~~~~~~~~~~~~~~~~~~~~~~~~~~~~~~ #                         \n",
    "#     Maurice F. Huguenin, m.huguenin-virchaux@unsw.edu.au, 28. 09. 2021      #                                                \n",
    "# ~~~~~~~~~~~~~~~~~~~~~~~~~~~~~~~~~~~~~~~~~~~~~~~~~~~~~~~~~~~~~~~~~~~~~~~~~~~ #\n",
    "\n",
    "# % preamble ~~~~~~~~~~~~~~~~~~~~~~~~~~~~~~~~~~~~~~~~~~~~~~~~~~~~~~~~~~~~~~~~ #                         \n",
    "base = '/g/data/e14/mv7494/access-om2/archive/025deg_jra55_iaf/'\n",
    "save = '/g/data/e14/mv7494/'\n",
    "\n",
    "import xarray as xr # for working with labelled multi-dimensional arrays                                                                \n",
    "import numpy as np # for numerical operations                                                           \n",
    "import cmocean as cm\n",
    "from datetime import datetime # package for printing time in plot                                                                                                       \n",
    "import matplotlib.pyplot as plt # for matlab-like plotting                                              \n",
    "import cartopy.crs as ccrs # for maps     \n",
    "import itertools\n",
    "import cosima_cookbook as cc\n",
    "import pandas as pd\n",
    "from matplotlib import gridspec\n",
    "from cdo import *\n",
    "cdo = Cdo()\n",
    "import os\n",
    "import sys\n",
    "import warnings\n",
    "import matplotlib.path as mpath\n",
    "import time\n",
    "import matplotlib.animation as animation # library that makes the movie\n",
    "import matplotlib.patheffects as PathEffects\n",
    "warnings.filterwarnings('ignore') # suppress warnings\n",
    "from matplotlib import ticker\n",
    "import nc_time_axis\n",
    "import cftime\n",
    "import cartopy.mpl.ticker as cticker\n",
    "import string # for subplot annotation\n",
    "import cartopy.feature as cfeature\n",
    "from matplotlib import gridspec\n",
    "import bottleneck as bn # for time series moving average\n",
    "from scipy import stats # create linear trend over the 3rd to 5th cycles for the upper 2000 m\n",
    "\n",
    "#import warnings\n",
    "#warnings.filterwarnings('ignore') # suppress warnings\n",
    "\n",
    "import nc_time_axis\n",
    "import cftime\n",
    "\n",
    "# for displaying multiple output in one cell\n",
    "from IPython.display import display as dp\n",
    "\n",
    "from dask.distributed import Client\n",
    "client = Client(n_workers=16)        \n",
    "client\n",
    "rotblau = [[0.4 , 0.  , 0.12], [0.47, 0.02, 0.13], [0.62, 0.07, 0.16], [0.66, 0.16, 0.2],\n",
    "           [0.8 , 0.3 , 0.27], [0.87, 0.44, 0.35], [0.93, 0.58, 0.45], [0.96, 0.7 , 0.58], \n",
    "           [0.98, 0.8 , 0.71], [0.98, 0.94, 0.92], [0.93, 0.95, 0.96], [0.85, 0.91, 0.95],\n",
    "           [0.76, 0.87, 0.93], [0.64, 0.8 , 0.89], [0.49, 0.72, 0.84], [0.34, 0.62, 0.79], \n",
    "           [0.23, 0.53, 0.74], [0.16, 0.44, 0.7] , [0.1 ,0.35, 0.6], [0.05, 0.24, 0.45], [0.02, 0.19, 0.38]]"
   ]
  },
  {
   "cell_type": "markdown",
   "id": "d5f2a9ac-5d17-4fb1-8f31-bd509c3940f1",
   "metadata": {
    "tags": []
   },
   "source": [
    "### Using the cosima cookbook to load in daily sea surface velocity maps"
   ]
  },
  {
   "cell_type": "code",
   "execution_count": null,
   "id": "cb4274fa-3e00-4d70-ad1f-90ae5800eb0b",
   "metadata": {},
   "outputs": [],
   "source": [
    "%%time\n",
    "session = cc.database.create_session()\n",
    "import matplotlib.path as mpath \n",
    "# -------------------------------------------------------------------------------------------- #\n",
    "NA_lat        = [    60,    361] # [    60,    361] = 75°N - 0°                                #\n",
    "NA_lon        = [   320,    801] # [   320,    801] = 100°W - 20°E                             #\n",
    "time          = [350650, 613633] # [350650, 613633] = 1980-01-01T00:00:00, 2010-01-01T01:00:00 #\n",
    "# -------------------------------------------------------------------------------------------- #\n",
    "filename = ['/g/data/e14/mv7494/ERA5/ERA5_NorthAtlantic_nsf_clim_daily_1980-01-01_to_2010-08-01.nc',\n",
    "            '/g/data/e14/mv7494/ERA5/ERA5_NorthAtlantic_nsf_daily_2023-01-01_to_2023-08-01.nc']\n",
    "era_path = '/g/data/rt52/era5/single-levels/reanalysis/'\n",
    "vars = ['slhf', 'sshf', 'ssrd', 'strd'] # surface latent heat flux, surface sensible heat flux, \n",
    "#       'slhf' Surface latent heat flux\n",
    "#               'sshf' Surface sensible heat flux\n",
    "#                       'ssrd' Surface short-wave (solar) radiation downwards\n",
    "#                              'strd' Surface long-wave (thermal) radiation downwards\n",
    "\n",
    "for e in range(2): # loop through the climatology and the 2023 year\n",
    "    if e == 0: era_short = '/2023/*.nc'; suffix = 'nsf_clim'    # select all the years\n",
    "    if e == 1: era_short = '/2023/*.nc'; suffix = 'nsf'         # only select year 2023\n",
    "        \n",
    "#    if not os.path.exists(filename[e]):\n",
    "#        print('Calculating anomalies as they are not yet done')\n",
    "#        print('----------------------------------------------') \n",
    "\n",
    "    for f in range(1): # loop through the four components of the net surface heat flux\n",
    "        data = xr.open_mfdataset(era_path + vars[f] + era_short,\n",
    "                                 chunks = {'yt_ocean': '200MB', 'xt_ocean': '200MB'}\n",
    "                                )[vars[f]][:,NA_lat[0]:NA_lat[1],NA_lon[0]:NA_lon[1]]#.resample(time='D').mean()\n",
    "        if f == 0: slhf = data\n",
    "        if f == 1: sshf = data\n",
    "        if f == 2: ssrd = data\n",
    "        if f == 3: strd = data\n",
    "    nsf = (slhf + sshf + ssrd + strd).to_dataset(name=suffix).to_netcdf(filename[e])  \n",
    "# Wall time: 1min 24 s for one year"
   ]
  },
  {
   "cell_type": "code",
   "execution_count": 5,
   "id": "6d3ca40c-d7fc-4db1-a83a-7b0887dd30bd",
   "metadata": {},
   "outputs": [],
   "source": [
    "# ----------------------------------------------------------------------------------------------------------------------- #\n",
    "#                                                   Notes down below                                                      #\n",
    "# ----------------------------------------------------------------------------------------------------------------------- #"
   ]
  }
 ],
 "metadata": {
  "kernelspec": {
   "display_name": "Python [conda env:analysis3-22.04]",
   "language": "python",
   "name": "conda-env-analysis3-22.04-py"
  },
  "language_info": {
   "codemirror_mode": {
    "name": "ipython",
    "version": 3
   },
   "file_extension": ".py",
   "mimetype": "text/x-python",
   "name": "python",
   "nbconvert_exporter": "python",
   "pygments_lexer": "ipython3",
   "version": "3.9.13"
  }
 },
 "nbformat": 4,
 "nbformat_minor": 5
}
